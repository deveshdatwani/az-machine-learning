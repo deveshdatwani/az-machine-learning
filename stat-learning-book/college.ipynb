{
 "cells": [
  {
   "cell_type": "code",
   "execution_count": 1,
   "metadata": {},
   "outputs": [],
   "source": [
    "import pandas as pd\n",
    "import numpy as np"
   ]
  },
  {
   "cell_type": "code",
   "execution_count": 3,
   "metadata": {},
   "outputs": [
    {
     "name": "stdout",
     "output_type": "stream",
     "text": [
      "               Apps        Accept       Enroll   Top10perc   Top25perc  \\\n",
      "count    777.000000    777.000000   777.000000  777.000000  777.000000   \n",
      "mean    3001.638353   2018.804376   779.972973   27.558559   55.796654   \n",
      "std     3870.201484   2451.113971   929.176190   17.640364   19.804778   \n",
      "min       81.000000     72.000000    35.000000    1.000000    9.000000   \n",
      "25%      776.000000    604.000000   242.000000   15.000000   41.000000   \n",
      "50%     1558.000000   1110.000000   434.000000   23.000000   54.000000   \n",
      "75%     3624.000000   2424.000000   902.000000   35.000000   69.000000   \n",
      "max    48094.000000  26330.000000  6392.000000   96.000000  100.000000   \n",
      "\n",
      "        F.Undergrad   P.Undergrad      Outstate   Room.Board        Books  \\\n",
      "count    777.000000    777.000000    777.000000   777.000000   777.000000   \n",
      "mean    3699.907336    855.298584  10440.669241  4357.526384   549.380952   \n",
      "std     4850.420531   1522.431887   4023.016484  1096.696416   165.105360   \n",
      "min      139.000000      1.000000   2340.000000  1780.000000    96.000000   \n",
      "25%      992.000000     95.000000   7320.000000  3597.000000   470.000000   \n",
      "50%     1707.000000    353.000000   9990.000000  4200.000000   500.000000   \n",
      "75%     4005.000000    967.000000  12925.000000  5050.000000   600.000000   \n",
      "max    31643.000000  21836.000000  21700.000000  8124.000000  2340.000000   \n",
      "\n",
      "          Personal         PhD    Terminal   S.F.Ratio  perc.alumni  \\\n",
      "count   777.000000  777.000000  777.000000  777.000000   777.000000   \n",
      "mean   1340.642214   72.660232   79.702703   14.089704    22.743887   \n",
      "std     677.071454   16.328155   14.722359    3.958349    12.391801   \n",
      "min     250.000000    8.000000   24.000000    2.500000     0.000000   \n",
      "25%     850.000000   62.000000   71.000000   11.500000    13.000000   \n",
      "50%    1200.000000   75.000000   82.000000   13.600000    21.000000   \n",
      "75%    1700.000000   85.000000   92.000000   16.500000    31.000000   \n",
      "max    6800.000000  103.000000  100.000000   39.800000    64.000000   \n",
      "\n",
      "             Expend  Grad.Rate  \n",
      "count    777.000000  777.00000  \n",
      "mean    9660.171171   65.46332  \n",
      "std     5221.768440   17.17771  \n",
      "min     3186.000000   10.00000  \n",
      "25%     6751.000000   53.00000  \n",
      "50%     8377.000000   65.00000  \n",
      "75%    10830.000000   78.00000  \n",
      "max    56233.000000  118.00000  \n"
     ]
    }
   ],
   "source": [
    "data_set = pd.read_csv('data/College.csv')\n",
    "print(data_set.describe())"
   ]
  },
  {
   "cell_type": "code",
   "execution_count": 19,
   "metadata": {},
   "outputs": [],
   "source": [
    "from matplotlib import pyplot as plt\n",
    "from matplotlib.pyplot import boxplot as bplot\n",
    "from matplotlib.pyplot import hist"
   ]
  },
  {
   "cell_type": "code",
   "execution_count": 22,
   "metadata": {},
   "outputs": [
    {
     "data": {
      "text/plain": [
       "(array([603., 109.,  40.,  14.,   7.,   2.,   0.,   1.,   0.,   1.]),\n",
       " array([   72. ,  2697.8,  5323.6,  7949.4, 10575.2, 13201. , 15826.8,\n",
       "        18452.6, 21078.4, 23704.2, 26330. ]),\n",
       " <BarContainer object of 10 artists>)"
      ]
     },
     "execution_count": 22,
     "metadata": {},
     "output_type": "execute_result"
    },
    {
     "data": {
      "image/png": "[encoded data removed]",
      "text/plain": [
       "<Figure size 432x288 with 1 Axes>"
      ]
     },
     "metadata": {},
     "output_type": "display_data"
    }
   ],
   "source": [
    "hist(data_set['Accept'])"
   ]
  },
  {
   "cell_type": "code",
   "execution_count": null,
   "metadata": {},
   "outputs": [],
   "source": []
  }
 ],
 "metadata": {
  "kernelspec": {
   "display_name": "Python 3",
   "language": "python",
   "name": "python3"
  },
  "language_info": {
   "codemirror_mode": {
    "name": "ipython",
    "version": 3
   },
   "file_extension": ".py",
   "mimetype": "text/x-python",
   "name": "python",
   "nbconvert_exporter": "python",
   "pygments_lexer": "ipython3",
   "version": "3.6.9"
  }
 },
 "nbformat": 4,
 "nbformat_minor": 2
}
