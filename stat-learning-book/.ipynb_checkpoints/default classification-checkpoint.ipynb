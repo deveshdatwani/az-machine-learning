{
 "cells": [
  {
   "cell_type": "code",
   "execution_count": 49,
   "metadata": {},
   "outputs": [
    {
     "name": "stdout",
     "output_type": "stream",
     "text": [
      "      Income  Limit  Rating  Cards  Age  Education  Gender Student Married  \\\n",
      "0     14.891   3606     283      2   34         11    Male      No     Yes   \n",
      "1    106.025   6645     483      3   82         15  Female     Yes     Yes   \n",
      "2    104.593   7075     514      4   71         11    Male      No      No   \n",
      "3    148.924   9504     681      3   36         11  Female      No      No   \n",
      "4     55.882   4897     357      2   68         16    Male      No     Yes   \n",
      "..       ...    ...     ...    ...  ...        ...     ...     ...     ...   \n",
      "395   12.096   4100     307      3   32         13    Male      No     Yes   \n",
      "396   13.364   3838     296      5   65         17    Male      No      No   \n",
      "397   57.872   4171     321      5   67         12  Female      No     Yes   \n",
      "398   37.728   2525     192      1   44         13    Male      No     Yes   \n",
      "399   18.701   5524     415      5   64          7  Female      No      No   \n",
      "\n",
      "            Ethnicity  Balance  \n",
      "0           Caucasian      333  \n",
      "1               Asian      903  \n",
      "2               Asian      580  \n",
      "3               Asian      964  \n",
      "4           Caucasian      331  \n",
      "..                ...      ...  \n",
      "395         Caucasian      560  \n",
      "396  African American      480  \n",
      "397         Caucasian      138  \n",
      "398         Caucasian        0  \n",
      "399             Asian      966  \n",
      "\n",
      "[400 rows x 11 columns]\n"
     ]
    }
   ],
   "source": [
    "import pandas as pd\n",
    "data_set = pd.read_csv('data/Credit.csv')\n",
    "print(data_set.iloc[:,1:])"
   ]
  },
  {
   "cell_type": "code",
   "execution_count": 50,
   "metadata": {},
   "outputs": [],
   "source": [
    "train_data = data_set['Student']\n",
    "target = data_set['Married']"
   ]
  },
  {
   "cell_type": "code",
   "execution_count": 51,
   "metadata": {},
   "outputs": [],
   "source": [
    "from sklearn.linear_model import LogisticRegression as lg"
   ]
  },
  {
   "cell_type": "code",
   "execution_count": 52,
   "metadata": {},
   "outputs": [
    {
     "data": {
      "text/plain": [
       "0       No\n",
       "1      Yes\n",
       "2       No\n",
       "3       No\n",
       "4       No\n",
       "      ... \n",
       "395     No\n",
       "396     No\n",
       "397     No\n",
       "398     No\n",
       "399     No\n",
       "Name: Student, Length: 400, dtype: object"
      ]
     },
     "execution_count": 52,
     "metadata": {},
     "output_type": "execute_result"
    }
   ],
   "source": [
    "train_data[train_data == 'Y']"
   ]
  },
  {
   "cell_type": "code",
   "execution_count": 39,
   "metadata": {},
   "outputs": [],
   "source": [
    "#lg_model = lg()\n",
    "#lg_model.fit(X=train_data, y=target)"
   ]
  },
  {
   "cell_type": "code",
   "execution_count": null,
   "metadata": {},
   "outputs": [],
   "source": []
  }
 ],
 "metadata": {
  "kernelspec": {
   "display_name": "Python 3",
   "language": "python",
   "name": "python3"
  },
  "language_info": {
   "codemirror_mode": {
    "name": "ipython",
    "version": 3
   },
   "file_extension": ".py",
   "mimetype": "text/x-python",
   "name": "python",
   "nbconvert_exporter": "python",
   "pygments_lexer": "ipython3",
   "version": "3.6.9"
  }
 },
 "nbformat": 4,
 "nbformat_minor": 2
}
